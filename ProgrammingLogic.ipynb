{
  "nbformat": 4,
  "nbformat_minor": 0,
  "metadata": {
    "colab": {
      "name": "ProgrammingLogic.ipynb",
      "provenance": [],
      "collapsed_sections": [
        "IQAnZ5a2P9Ip",
        "N5musE3wRxTb",
        "PbiUEGBe5YAL",
        "ua6QhCvw5V22",
        "7R44rCGU6_cr",
        "0bAM2XIX7q2k",
        "2juDSYp0878k",
        "8ozWeYeCA95q",
        "evgYm7gzC4dE",
        "Qq8ZJOL9DRGM"
      ],
      "authorship_tag": "ABX9TyMWQQgJyahA20leAuy+2nUs",
      "include_colab_link": true
    },
    "kernelspec": {
      "name": "python3",
      "display_name": "Python 3"
    },
    "language_info": {
      "name": "python"
    }
  },
  "cells": [
    {
      "cell_type": "markdown",
      "metadata": {
        "id": "view-in-github",
        "colab_type": "text"
      },
      "source": [
        "<a href=\"https://colab.research.google.com/github/ErichDs/General-Training/blob/master/ProgrammingLogic.ipynb\" target=\"_parent\"><img src=\"https://colab.research.google.com/assets/colab-badge.svg\" alt=\"Open In Colab\"/></a>"
      ]
    },
    {
      "cell_type": "markdown",
      "metadata": {
        "id": "IQAnZ5a2P9Ip"
      },
      "source": [
        "#Programming logic in Python"
      ]
    },
    {
      "cell_type": "code",
      "metadata": {
        "colab": {
          "base_uri": "https://localhost:8080/"
        },
        "id": "B0arNXiaPmzY",
        "outputId": "df9b0954-393d-42dc-9eef-b31b61f983c9"
      },
      "source": [
        "1+1"
      ],
      "execution_count": null,
      "outputs": [
        {
          "output_type": "execute_result",
          "data": {
            "text/plain": [
              "2"
            ]
          },
          "metadata": {
            "tags": []
          },
          "execution_count": 1
        }
      ]
    },
    {
      "cell_type": "code",
      "metadata": {
        "colab": {
          "base_uri": "https://localhost:8080/",
          "height": 35
        },
        "id": "x5VqHNwTQBuT",
        "outputId": "3af1fd27-60e9-4ab9-8bb1-6cc7d1b2f696"
      },
      "source": [
        "\"Erich\""
      ],
      "execution_count": null,
      "outputs": [
        {
          "output_type": "execute_result",
          "data": {
            "application/vnd.google.colaboratory.intrinsic+json": {
              "type": "string"
            },
            "text/plain": [
              "'Erich'"
            ]
          },
          "metadata": {
            "tags": []
          },
          "execution_count": 2
        }
      ]
    },
    {
      "cell_type": "code",
      "metadata": {
        "colab": {
          "base_uri": "https://localhost:8080/",
          "height": 35
        },
        "id": "jmV41JldQ-rk",
        "outputId": "b6096d62-183b-4d4a-d019-cb43f55a080a"
      },
      "source": [
        "'Erich'"
      ],
      "execution_count": null,
      "outputs": [
        {
          "output_type": "execute_result",
          "data": {
            "application/vnd.google.colaboratory.intrinsic+json": {
              "type": "string"
            },
            "text/plain": [
              "'Erich'"
            ]
          },
          "metadata": {
            "tags": []
          },
          "execution_count": 3
        }
      ]
    },
    {
      "cell_type": "code",
      "metadata": {
        "id": "LPPw8HnaQ_jD"
      },
      "source": [
        "name = 'Erich'"
      ],
      "execution_count": null,
      "outputs": []
    },
    {
      "cell_type": "code",
      "metadata": {
        "colab": {
          "base_uri": "https://localhost:8080/",
          "height": 35
        },
        "id": "S3SQLOKTRR9T",
        "outputId": "957ddaa9-21c5-4b24-baf4-64c6bc8634d5"
      },
      "source": [
        "name"
      ],
      "execution_count": null,
      "outputs": [
        {
          "output_type": "execute_result",
          "data": {
            "application/vnd.google.colaboratory.intrinsic+json": {
              "type": "string"
            },
            "text/plain": [
              "'Erich'"
            ]
          },
          "metadata": {
            "tags": []
          },
          "execution_count": 5
        }
      ]
    },
    {
      "cell_type": "code",
      "metadata": {
        "id": "NUHOD9laRTIj"
      },
      "source": [
        "age = 28"
      ],
      "execution_count": null,
      "outputs": []
    },
    {
      "cell_type": "code",
      "metadata": {
        "colab": {
          "base_uri": "https://localhost:8080/"
        },
        "id": "PK0UivKjRX8-",
        "outputId": "f2cf75f2-af2d-46f2-9fca-412d7ddc2afc"
      },
      "source": [
        "age"
      ],
      "execution_count": null,
      "outputs": [
        {
          "output_type": "execute_result",
          "data": {
            "text/plain": [
              "28"
            ]
          },
          "metadata": {
            "tags": []
          },
          "execution_count": 7
        }
      ]
    },
    {
      "cell_type": "code",
      "metadata": {
        "colab": {
          "base_uri": "https://localhost:8080/"
        },
        "id": "SOpe6m2kRYnC",
        "outputId": "4a05c4ad-2d31-4eb5-a25c-d5eba2c53180"
      },
      "source": [
        "print(f'The name is {name} and his age is {age} years.')"
      ],
      "execution_count": null,
      "outputs": [
        {
          "output_type": "stream",
          "text": [
            "The Erich is Erich and his age is 28 years.\n"
          ],
          "name": "stdout"
        }
      ]
    },
    {
      "cell_type": "markdown",
      "metadata": {
        "id": "N5musE3wRxTb"
      },
      "source": [
        "# Developing first function"
      ]
    },
    {
      "cell_type": "code",
      "metadata": {
        "id": "gYzRpAo2SKvR"
      },
      "source": [
        "def greeting():\n",
        "  name = input('What is your name? ')\n",
        "  print(f'Hello, {name}!')"
      ],
      "execution_count": null,
      "outputs": []
    },
    {
      "cell_type": "code",
      "metadata": {
        "colab": {
          "base_uri": "https://localhost:8080/"
        },
        "id": "We05pw6zSs2v",
        "outputId": "a35e1be7-25fb-4cef-c69d-a778806e3ad9"
      },
      "source": [
        "greeting()"
      ],
      "execution_count": null,
      "outputs": [
        {
          "output_type": "stream",
          "text": [
            "What is your name? Erich\n",
            "Hello, Erich!\n"
          ],
          "name": "stdout"
        }
      ]
    },
    {
      "cell_type": "markdown",
      "metadata": {
        "id": "PbiUEGBe5YAL"
      },
      "source": [
        "# Parâmetros"
      ]
    },
    {
      "cell_type": "code",
      "metadata": {
        "id": "bzAcnBD3Suf7"
      },
      "source": [
        "name = 'Dani'"
      ],
      "execution_count": 5,
      "outputs": []
    },
    {
      "cell_type": "code",
      "metadata": {
        "id": "_dPNVhxx5Bn5"
      },
      "source": [
        "def greeting_with_parameter(people_name):\n",
        "  print(f'Hi, {people_name}!')"
      ],
      "execution_count": 3,
      "outputs": []
    },
    {
      "cell_type": "code",
      "metadata": {
        "colab": {
          "base_uri": "https://localhost:8080/"
        },
        "id": "sZwRy65M5QIe",
        "outputId": "491337a3-c92f-4ee2-f93f-75ed76a61221"
      },
      "source": [
        "greeting_with_parameter(name)"
      ],
      "execution_count": 4,
      "outputs": [
        {
          "output_type": "stream",
          "text": [
            "Hi, Daniele!\n"
          ],
          "name": "stdout"
        }
      ]
    },
    {
      "cell_type": "markdown",
      "metadata": {
        "id": "ua6QhCvw5V22"
      },
      "source": [
        "# Condition"
      ]
    },
    {
      "cell_type": "code",
      "metadata": {
        "colab": {
          "base_uri": "https://localhost:8080/"
        },
        "id": "NDmxfqpQ5kP_",
        "outputId": "a3d91868-266d-445f-ab84-8dde7bcbf0b3"
      },
      "source": [
        "age = 20\n",
        "\n",
        "def check_if_can_drive(age):\n",
        "  if age >= 18:\n",
        "    print('Have permission to drive.')\n",
        "  else:\n",
        "    print(\"Doesn't have permission to drive.\")\n",
        "\n",
        "\n",
        "check_if_can_drive(age)"
      ],
      "execution_count": 10,
      "outputs": [
        {
          "output_type": "stream",
          "text": [
            "Have permission to drive.\n"
          ],
          "name": "stdout"
        }
      ]
    },
    {
      "cell_type": "markdown",
      "metadata": {
        "id": "7R44rCGU6_cr"
      },
      "source": [
        "# Converting to int"
      ]
    },
    {
      "cell_type": "code",
      "metadata": {
        "colab": {
          "base_uri": "https://localhost:8080/"
        },
        "id": "IHuFuTsY6OPV",
        "outputId": "8bc3be1f-0687-4246-bddf-1659bdd01185"
      },
      "source": [
        "def check_if_can_drive_without_param():\n",
        "  age = int(input('What is your age? '))\n",
        "  #age = int(age)\n",
        "  if age >= 18:\n",
        "    print('Have permission to drive.')\n",
        "  else:\n",
        "    print(\"Doesn't have permission to drive.\")\n",
        "\n",
        "check_if_can_drive_without_param()"
      ],
      "execution_count": 13,
      "outputs": [
        {
          "output_type": "stream",
          "text": [
            "What is your age? 20\n",
            "Have permission to drive.\n"
          ],
          "name": "stdout"
        }
      ]
    },
    {
      "cell_type": "markdown",
      "metadata": {
        "id": "0bAM2XIX7q2k"
      },
      "source": [
        "#Lists"
      ]
    },
    {
      "cell_type": "code",
      "metadata": {
        "colab": {
          "base_uri": "https://localhost:8080/"
        },
        "id": "RNrVAZKC7EBl",
        "outputId": "80a1f930-045a-4d95-8776-a46ab5a7356a"
      },
      "source": [
        "age = 22\n",
        "age"
      ],
      "execution_count": 14,
      "outputs": [
        {
          "output_type": "execute_result",
          "data": {
            "text/plain": [
              "22"
            ]
          },
          "metadata": {
            "tags": []
          },
          "execution_count": 14
        }
      ]
    },
    {
      "cell_type": "code",
      "metadata": {
        "colab": {
          "base_uri": "https://localhost:8080/"
        },
        "id": "yX2iXzDT7tgP",
        "outputId": "9be2f638-7096-4114-d3bd-ee8036fa5cbb"
      },
      "source": [
        "type(age)"
      ],
      "execution_count": 16,
      "outputs": [
        {
          "output_type": "execute_result",
          "data": {
            "text/plain": [
              "int"
            ]
          },
          "metadata": {
            "tags": []
          },
          "execution_count": 16
        }
      ]
    },
    {
      "cell_type": "code",
      "metadata": {
        "id": "PS5iKkzP7wW9"
      },
      "source": [
        "name = 'Erich'"
      ],
      "execution_count": 18,
      "outputs": []
    },
    {
      "cell_type": "code",
      "metadata": {
        "colab": {
          "base_uri": "https://localhost:8080/"
        },
        "id": "63XCHd_27yM-",
        "outputId": "a9a613de-69e2-4b76-daf5-0fe49f2506e4"
      },
      "source": [
        "type(name)"
      ],
      "execution_count": 19,
      "outputs": [
        {
          "output_type": "execute_result",
          "data": {
            "text/plain": [
              "str"
            ]
          },
          "metadata": {
            "tags": []
          },
          "execution_count": 19
        }
      ]
    },
    {
      "cell_type": "code",
      "metadata": {
        "colab": {
          "base_uri": "https://localhost:8080/"
        },
        "id": "mSPLP3Yb7zlc",
        "outputId": "f4dd8c3b-5afa-4a6e-92f9-995d56f39763"
      },
      "source": [
        "ages = [18, 22, 15, 50]\n",
        "type(ages)"
      ],
      "execution_count": 22,
      "outputs": [
        {
          "output_type": "execute_result",
          "data": {
            "text/plain": [
              "list"
            ]
          },
          "metadata": {
            "tags": []
          },
          "execution_count": 22
        }
      ]
    },
    {
      "cell_type": "code",
      "metadata": {
        "colab": {
          "base_uri": "https://localhost:8080/"
        },
        "id": "Qxu2aMtg75aF",
        "outputId": "4b647a46-ccc4-42ee-b1ac-e0534a3a2168"
      },
      "source": [
        "ages[2]"
      ],
      "execution_count": 23,
      "outputs": [
        {
          "output_type": "execute_result",
          "data": {
            "text/plain": [
              "15"
            ]
          },
          "metadata": {
            "tags": []
          },
          "execution_count": 23
        }
      ]
    },
    {
      "cell_type": "code",
      "metadata": {
        "id": "_-ooZ5Da78Z9"
      },
      "source": [
        "ages = [18, 22, 15, 50]\n",
        "#indexes 0   1   2   3\n",
        "#        0  -3  -2  -1"
      ],
      "execution_count": 24,
      "outputs": []
    },
    {
      "cell_type": "code",
      "metadata": {
        "colab": {
          "base_uri": "https://localhost:8080/"
        },
        "id": "8sfk0jjf8Ju2",
        "outputId": "d3f226a9-4725-4cbd-9226-ba1a7a071a6a"
      },
      "source": [
        "ages[1]"
      ],
      "execution_count": 26,
      "outputs": [
        {
          "output_type": "execute_result",
          "data": {
            "text/plain": [
              "22"
            ]
          },
          "metadata": {
            "tags": []
          },
          "execution_count": 26
        }
      ]
    },
    {
      "cell_type": "code",
      "metadata": {
        "colab": {
          "base_uri": "https://localhost:8080/"
        },
        "id": "pp6wuBrt8K0N",
        "outputId": "c8df558f-2ee8-4f3c-b91f-8e1d789e04ab"
      },
      "source": [
        "ages[0:3] # python avoid the last element"
      ],
      "execution_count": 28,
      "outputs": [
        {
          "output_type": "execute_result",
          "data": {
            "text/plain": [
              "[18, 22, 15]"
            ]
          },
          "metadata": {
            "tags": []
          },
          "execution_count": 28
        }
      ]
    },
    {
      "cell_type": "code",
      "metadata": {
        "colab": {
          "base_uri": "https://localhost:8080/"
        },
        "id": "Y3xOEDgL8PTN",
        "outputId": "f649befc-0152-48a8-e30a-9317cd219d2d"
      },
      "source": [
        "ages[1:]"
      ],
      "execution_count": 29,
      "outputs": [
        {
          "output_type": "execute_result",
          "data": {
            "text/plain": [
              "[22, 15, 50]"
            ]
          },
          "metadata": {
            "tags": []
          },
          "execution_count": 29
        }
      ]
    },
    {
      "cell_type": "code",
      "metadata": {
        "colab": {
          "base_uri": "https://localhost:8080/"
        },
        "id": "iJN9enSB8cyl",
        "outputId": "1ac451f3-5337-4a01-cf53-6494359d8590"
      },
      "source": [
        "ages[-1] # you can rewind your index"
      ],
      "execution_count": 30,
      "outputs": [
        {
          "output_type": "execute_result",
          "data": {
            "text/plain": [
              "50"
            ]
          },
          "metadata": {
            "tags": []
          },
          "execution_count": 30
        }
      ]
    },
    {
      "cell_type": "code",
      "metadata": {
        "colab": {
          "base_uri": "https://localhost:8080/"
        },
        "id": "LNqGraCD8gHt",
        "outputId": "4260416f-0e21-46db-e499-9485bf8e501a"
      },
      "source": [
        "ages[-2]"
      ],
      "execution_count": 31,
      "outputs": [
        {
          "output_type": "execute_result",
          "data": {
            "text/plain": [
              "15"
            ]
          },
          "metadata": {
            "tags": []
          },
          "execution_count": 31
        }
      ]
    },
    {
      "cell_type": "markdown",
      "metadata": {
        "id": "2juDSYp0878k"
      },
      "source": [
        "# Loops"
      ]
    },
    {
      "cell_type": "code",
      "metadata": {
        "colab": {
          "base_uri": "https://localhost:8080/"
        },
        "id": "CvuOY6mw8q5F",
        "outputId": "7cdc07e4-a304-4925-cdae-b5fd79b853ff"
      },
      "source": [
        "ages"
      ],
      "execution_count": 32,
      "outputs": [
        {
          "output_type": "execute_result",
          "data": {
            "text/plain": [
              "[18, 22, 15, 50]"
            ]
          },
          "metadata": {
            "tags": []
          },
          "execution_count": 32
        }
      ]
    },
    {
      "cell_type": "code",
      "metadata": {
        "colab": {
          "base_uri": "https://localhost:8080/"
        },
        "id": "-osfQOna9C89",
        "outputId": "d3d3c4c8-b433-4903-9271-e835ae224be7"
      },
      "source": [
        "# 'for' outside function \n",
        "\n",
        "def check_if_can_drive(age):\n",
        "  if age >= 18:\n",
        "    print(f'{age} years old, has permission to drive.')\n",
        "  else:\n",
        "    print(f\"{age} years old, doesn't have permission to drive.\")\n",
        "\n",
        "for age in ages:\n",
        "  check_if_can_drive(age)"
      ],
      "execution_count": 36,
      "outputs": [
        {
          "output_type": "stream",
          "text": [
            "18 years old, have permission to drive.\n",
            "22 years old, have permission to drive.\n",
            "15 years old, doesn't have permission to drive.\n",
            "50 years old, have permission to drive.\n"
          ],
          "name": "stdout"
        }
      ]
    },
    {
      "cell_type": "code",
      "metadata": {
        "colab": {
          "base_uri": "https://localhost:8080/"
        },
        "id": "qipDgnYuAPos",
        "outputId": "c5d9055a-f355-4c17-b0e6-682312d7376b"
      },
      "source": [
        "def check_if_can_drive(ages):\n",
        "  for age in ages:\n",
        "    if age >= 18:\n",
        "      print(f'{age} years old, has permission to drive.')\n",
        "    else:\n",
        "      print(f\"{age} years old, doesn't have permission to drive.\")\n",
        "\n",
        "check_if_can_drive(ages)"
      ],
      "execution_count": 37,
      "outputs": [
        {
          "output_type": "stream",
          "text": [
            "18 years old, have permission to drive.\n",
            "22 years old, have permission to drive.\n",
            "15 years old, doesn't have permission to drive.\n",
            "50 years old, have permission to drive.\n"
          ],
          "name": "stdout"
        }
      ]
    },
    {
      "cell_type": "markdown",
      "metadata": {
        "id": "8ozWeYeCA95q"
      },
      "source": [
        "## Boolean"
      ]
    },
    {
      "cell_type": "code",
      "metadata": {
        "colab": {
          "base_uri": "https://localhost:8080/"
        },
        "id": "7yM0-jwqBCS8",
        "outputId": "a9d8ec6e-09d8-42d7-bf6a-3ab4c37cddbc"
      },
      "source": [
        "age = 18\n",
        "age >= 18"
      ],
      "execution_count": 39,
      "outputs": [
        {
          "output_type": "execute_result",
          "data": {
            "text/plain": [
              "True"
            ]
          },
          "metadata": {
            "tags": []
          },
          "execution_count": 39
        }
      ]
    },
    {
      "cell_type": "code",
      "metadata": {
        "colab": {
          "base_uri": "https://localhost:8080/"
        },
        "id": "zm5nzfZ3BGCr",
        "outputId": "cb829475-d31a-4ba5-9ba0-f46436b15304"
      },
      "source": [
        "age = 15\n",
        "age >= 18"
      ],
      "execution_count": 40,
      "outputs": [
        {
          "output_type": "execute_result",
          "data": {
            "text/plain": [
              "False"
            ]
          },
          "metadata": {
            "tags": []
          },
          "execution_count": 40
        }
      ]
    },
    {
      "cell_type": "code",
      "metadata": {
        "id": "BFINmQCUBI5j"
      },
      "source": [
        "permissions = []\n",
        "ages = [20, 14, 40]\n",
        "\n",
        "def check_if_can_drive(ages, permissions):\n",
        "  for age in ages:\n",
        "    if age >= 18:\n",
        "      permissions.append(True)\n",
        "    else:\n",
        "      permissions.append(False)\n",
        "\n",
        "\n",
        "check_if_can_drive(ages, permissions)"
      ],
      "execution_count": 41,
      "outputs": []
    },
    {
      "cell_type": "code",
      "metadata": {
        "colab": {
          "base_uri": "https://localhost:8080/"
        },
        "id": "C92sV9_6Bm8T",
        "outputId": "84e1d704-11b4-4555-be01-0220cd43b7c2"
      },
      "source": [
        "permissions"
      ],
      "execution_count": 42,
      "outputs": [
        {
          "output_type": "execute_result",
          "data": {
            "text/plain": [
              "[True, False, True]"
            ]
          },
          "metadata": {
            "tags": []
          },
          "execution_count": 42
        }
      ]
    },
    {
      "cell_type": "code",
      "metadata": {
        "colab": {
          "base_uri": "https://localhost:8080/"
        },
        "id": "RPJR1ILYBn7b",
        "outputId": "24de0123-9696-4038-ee30-33bc6f7738ed"
      },
      "source": [
        "for permission in permissions:\n",
        "  if permission == True:\n",
        "    print('Has permission to drive.')\n",
        "  else:\n",
        "    print(\"Doesn't have permission to drive.\")"
      ],
      "execution_count": 43,
      "outputs": [
        {
          "output_type": "stream",
          "text": [
            "Has permission to drive.\n",
            "Doesn't have permission to drive.\n",
            "Has permission to drive.\n"
          ],
          "name": "stdout"
        }
      ]
    },
    {
      "cell_type": "markdown",
      "metadata": {
        "id": "evgYm7gzC4dE"
      },
      "source": [
        "# Types in a list"
      ]
    },
    {
      "cell_type": "code",
      "metadata": {
        "colab": {
          "base_uri": "https://localhost:8080/"
        },
        "id": "xOHTe6HAC7sC",
        "outputId": "ea321de0-ca89-4346-9666-b38ba9339217"
      },
      "source": [
        "lst = ['Erich', 28, True, '28']\n",
        "\n",
        "for ele in lst:\n",
        "  print(f'The element {ele} is type of: ', type(ele))"
      ],
      "execution_count": 45,
      "outputs": [
        {
          "output_type": "stream",
          "text": [
            "The element Erich is type of:  <class 'str'>\n",
            "The element 28 is type of:  <class 'int'>\n",
            "The element True is type of:  <class 'bool'>\n",
            "The element 28 is type of:  <class 'str'>\n"
          ],
          "name": "stdout"
        }
      ]
    },
    {
      "cell_type": "markdown",
      "metadata": {
        "id": "Qq8ZJOL9DRGM"
      },
      "source": [
        "# Imports"
      ]
    },
    {
      "cell_type": "code",
      "metadata": {
        "id": "FSETCijGGNpp"
      },
      "source": [
        "from random import randrange, seed"
      ],
      "execution_count": 55,
      "outputs": []
    },
    {
      "cell_type": "code",
      "metadata": {
        "id": "QI45DVDaIWtZ"
      },
      "source": [
        "seed(11)"
      ],
      "execution_count": 65,
      "outputs": []
    },
    {
      "cell_type": "code",
      "metadata": {
        "colab": {
          "base_uri": "https://localhost:8080/"
        },
        "id": "1Z3NNw_zGVNa",
        "outputId": "3b591739-9e5c-47e3-9efd-ba36d84ee9f6"
      },
      "source": [
        "randrange(0, 11)"
      ],
      "execution_count": 66,
      "outputs": [
        {
          "output_type": "execute_result",
          "data": {
            "text/plain": [
              "7"
            ]
          },
          "metadata": {
            "tags": []
          },
          "execution_count": 66
        }
      ]
    },
    {
      "cell_type": "code",
      "metadata": {
        "colab": {
          "base_uri": "https://localhost:8080/"
        },
        "id": "gOtl5eMJGiOR",
        "outputId": "f3d8c30d-4b0c-4642-ff35-f0a8976fdf66"
      },
      "source": [
        "math_grades = []\n",
        "\n",
        "for grades in range(8):\n",
        "  math_grades.append(randrange(0, 11))\n",
        "\n",
        "math_grades"
      ],
      "execution_count": 67,
      "outputs": [
        {
          "output_type": "execute_result",
          "data": {
            "text/plain": [
              "[8, 7, 7, 8, 9, 3, 2, 8]"
            ]
          },
          "metadata": {
            "tags": []
          },
          "execution_count": 67
        }
      ]
    },
    {
      "cell_type": "code",
      "metadata": {
        "colab": {
          "base_uri": "https://localhost:8080/"
        },
        "id": "yuaJquwcGtU5",
        "outputId": "d93afe4c-0bf0-4611-d3c0-fbacd347b2e9"
      },
      "source": [
        "len(math_grades)"
      ],
      "execution_count": 68,
      "outputs": [
        {
          "output_type": "execute_result",
          "data": {
            "text/plain": [
              "8"
            ]
          },
          "metadata": {
            "tags": []
          },
          "execution_count": 68
        }
      ]
    },
    {
      "cell_type": "markdown",
      "metadata": {
        "id": "w9WI8P8MG6HJ"
      },
      "source": [
        "# Matplotlib"
      ]
    },
    {
      "cell_type": "code",
      "metadata": {
        "id": "m-CCpRnqPqye"
      },
      "source": [
        "import matplotlib.pyplot as plt"
      ],
      "execution_count": 69,
      "outputs": []
    },
    {
      "cell_type": "code",
      "metadata": {
        "colab": {
          "base_uri": "https://localhost:8080/",
          "height": 295
        },
        "id": "xvwM00VeQIAC",
        "outputId": "7fed9749-75bf-463f-aa6d-0e48ca01f623"
      },
      "source": [
        "x = list(range(1, 9))\n",
        "y = math_grades\n",
        "\n",
        "plt.plot(x, y, marker='o')\n",
        "plt.title('Math Grades')\n",
        "plt.xlabel('Tests')\n",
        "plt.ylabel('Grades')\n",
        "\n",
        "plt.show()"
      ],
      "execution_count": 78,
      "outputs": [
        {
          "output_type": "display_data",
          "data": {
            "image/png": "[encoded data removed]",
            "text/plain": [
              "<Figure size 432x288 with 1 Axes>"
            ]
          },
          "metadata": {
            "tags": [],
            "needs_background": "light"
          }
        }
      ]
    },
    {
      "cell_type": "code",
      "metadata": {
        "colab": {
          "base_uri": "https://localhost:8080/"
        },
        "id": "BRBPubMMQfR1",
        "outputId": "11edb509-c416-445a-ed28-4e9d5312f18a"
      },
      "source": [
        "math_grades"
      ],
      "execution_count": 79,
      "outputs": [
        {
          "output_type": "execute_result",
          "data": {
            "text/plain": [
              "[8, 7, 7, 8, 9, 3, 2, 8]"
            ]
          },
          "metadata": {
            "tags": []
          },
          "execution_count": 79
        }
      ]
    },
    {
      "cell_type": "code",
      "metadata": {
        "id": "A9ns0n3TRtKR"
      },
      "source": [
        "math_grades = ['Math', 8, 7, 6, 6, 7, 7, 8, 10]\n",
        "portuguese_grades = ['Portuguese', 9, 9, 9, 8, 5, 6, 8, 5]\n",
        "geo_grades = ['Geo', 10, 10, 6, 7, 7, 7, 8, 7]\n",
        "\n",
        "grades = [math_grades, portuguese_grades, geo_grades]"
      ],
      "execution_count": 83,
      "outputs": []
    },
    {
      "cell_type": "code",
      "metadata": {
        "colab": {
          "base_uri": "https://localhost:8080/",
          "height": 295
        },
        "id": "kl6nZhjJSGtZ",
        "outputId": "fd827714-0e5c-484c-bf12-792c8147e67d"
      },
      "source": [
        "for grade in grades:\n",
        "  x = list(range(1, 9))\n",
        "  y = grade[1:]\n",
        "  plt.plot(x, y, marker='o')\n",
        "  plt.xlabel('Tests')\n",
        "  plt.ylabel('Grades')\n",
        "  plt.title('Classes Grades')\n",
        "  plt.show"
      ],
      "execution_count": 86,
      "outputs": [
        {
          "output_type": "display_data",
          "data": {
            "image/png": "[encoded data removed]",
            "text/plain": [
              "<Figure size 432x288 with 1 Axes>"
            ]
          },
          "metadata": {
            "tags": [],
            "needs_background": "light"
          }
        }
      ]
    }
  ]
}